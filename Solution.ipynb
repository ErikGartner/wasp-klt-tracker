{
 "cells": [
  {
   "cell_type": "markdown",
   "metadata": {},
   "source": [
    "# The KLT Tracker\n",
    "*By Erik Gärtner*\n"
   ]
  },
  {
   "cell_type": "markdown",
   "metadata": {},
   "source": [
    "### 1.2.2 Inverse-additive scheme\n",
    "\n",
    "The inverse-additive shceme is the following:\n",
    "\\begin{align}\n",
    "E(u, v) = \\sum_{x,y} [J(x, y) - I(x - u, y -v)] ^2\n",
    "\\end{align}\n",
    "\n",
    "Which is derived into the form of $Zd = e$, where $Z$ is the Hessian matrix.\n",
    "\n",
    "\\begin{align}\n",
    "\\sum_{x,y} \n",
    "\\begin{bmatrix}\n",
    "I_x^2 & I_x I_y \\\\\n",
    "I_x I_y & I_y^2 \\\\\n",
    "\\end{bmatrix} \n",
    "\\begin{bmatrix}\n",
    "u \\\\\n",
    "v\n",
    "\\end{bmatrix} = - \\sum_{x,y}\n",
    "\\begin{bmatrix}\n",
    "I_x D \\\\\n",
    "I_y D\n",
    "\\end{bmatrix}\n",
    "\\end{align}\n",
    "\n",
    "where D is $D(x,y) = J(x,y) - I(x - u,y -v)$"
   ]
  },
  {
   "cell_type": "markdown",
   "metadata": {},
   "source": [
    "### Helper functions"
   ]
  },
  {
   "cell_type": "code",
   "execution_count": 1,
   "metadata": {},
   "outputs": [],
   "source": [
    "import numpy as np\n",
    "from  scipy import ndimage, interpolate\n",
    "\n",
    "from matplotlib.pyplot import imshow, imread\n",
    "import matplotlib.pyplot as plt\n",
    "from PIL import Image"
   ]
  },
  {
   "cell_type": "code",
   "execution_count": 2,
   "metadata": {},
   "outputs": [],
   "source": [
    "def load_img(path, gray=True):\n",
    "    rgb = imread(path)\n",
    "    # Alternative: rgb = Image.open(path)\n",
    "    rgb = np.array(rgb, dtype=np.float32)\n",
    "    if gray:\n",
    "        return np.dot(rgb[...,:3], [0.299, 0.587, 0.114])\n",
    "    else:\n",
    "        return rgb\n",
    "\n",
    "\n",
    "def show_img(img):\n",
    "    imshow(img, cmap = plt.get_cmap('gray'))\n",
    "\n",
    "\n",
    "I = load_img('./view0.png')\n",
    "J = load_img('./view1.png')"
   ]
  },
  {
   "cell_type": "markdown",
   "metadata": {},
   "source": [
    "\n",
    "### 1.3.1 Gradient Function"
   ]
  },
  {
   "cell_type": "code",
   "execution_count": 3,
   "metadata": {},
   "outputs": [],
   "source": [
    "# Sobel filter\n",
    "#X_FILTER = np.array([[1.0, 0.0, -1.0], [2., 0., -2.], [1.0, 0.0, -1.0]])\n",
    "# Sharr filter\n",
    "X_FILTER = np.array([[3.0, 0.0, -3.0], [10.0, 0.0, 10.0], [3.0, 0.0, -3.0]])\n",
    "Y_FILTER = X_FILTER.T\n",
    "\n",
    "def differentiate(img_arr):\n",
    "    x_diff = ndimage.convolve(img_arr, X_FILTER)\n",
    "    y_diff = ndimage.convolve(img_arr, Y_FILTER)\n",
    "    \n",
    "    # np.gradient(img_arr)\n",
    "    \n",
    "    return (x_diff, y_diff)"
   ]
  },
  {
   "cell_type": "markdown",
   "metadata": {},
   "source": [
    "### 1.3.2 Estimating Z\n",
    "Z is the Hessian matrix."
   ]
  },
  {
   "cell_type": "code",
   "execution_count": 4,
   "metadata": {},
   "outputs": [],
   "source": [
    "def estimate_Z(x_diff, y_diff):\n",
    "    x_diff = x_diff.flatten()\n",
    "    y_diff = y_diff.flatten()\n",
    "    \n",
    "    grads_T = np.array([x_diff, y_diff])\n",
    "    Z = np.dot(grads_T, grads_T.T)\n",
    "    return Z"
   ]
  },
  {
   "cell_type": "markdown",
   "metadata": {},
   "source": [
    "### 1.3.3 Difference Function"
   ]
  },
  {
   "cell_type": "code",
   "execution_count": 5,
   "metadata": {},
   "outputs": [],
   "source": [
    "def estimate_e(I, J, Ix, Iy):   \n",
    "    D = (J - I).flatten()\n",
    "    Ix = Ix.flatten()\n",
    "    Iy = Iy.flatten()\n",
    "    \n",
    "    grads_T = np.array([Ix, Iy])\n",
    "    \n",
    "    return -1 * np.dot(grads_T, D)"
   ]
  },
  {
   "cell_type": "markdown",
   "metadata": {},
   "source": [
    "### 1.3.4 Interpolation Function"
   ]
  },
  {
   "cell_type": "code",
   "execution_count": 6,
   "metadata": {},
   "outputs": [],
   "source": [
    "def interpolate_region(img_array):\n",
    "    \"\"\"\n",
    "    Creates an bilinear interpolation of the image area sent in.\n",
    "    Evaluate using spline(x, y)\n",
    "    \"\"\"\n",
    "    x_arr = np.arange(0, img_array.shape[1])\n",
    "    y_arr = np.arange(0, img_array.shape[0])\n",
    "    interp = interpolate.interp2d(x_arr, y_arr, img_array, kind='linear')\n",
    "    #spline = interpolate.RectBivariateSpline(x_arr, y_arr, img_array, kx=1, ky=1)\n",
    "    return interp"
   ]
  },
  {
   "cell_type": "markdown",
   "metadata": {},
   "source": [
    "### 1.3.5 Finalizing the KLT Tracker"
   ]
  },
  {
   "cell_type": "code",
   "execution_count": 12,
   "metadata": {},
   "outputs": [],
   "source": [
    "def calc_d(I, J, x, y, win_size, max_iter, min_disp):\n",
    "    \n",
    "    it = 0\n",
    "    d_tot = np.array([0., 0.]).T\n",
    "    \n",
    "    # The window to evaluate\n",
    "    win_x = np.arange(x, x + win_size[0], dtype=float)\n",
    "    win_y = np.arange(y, y + win_size[1], dtype=float)\n",
    "    \n",
    "    template = I[x:x + win_size[0], y: y + win_size[1]]\n",
    "    \n",
    "    # Find image gradient in I\n",
    "    Ix, Iy = differentiate(template)\n",
    "    \n",
    "    Z = estimate_Z(Ix, Iy)\n",
    "    print(Z)\n",
    "    Zinv = np.linalg.inv(Z)\n",
    "    \n",
    "    # Create interpolated versions the new frame\n",
    "    J_inter = interpolate_region(J)  \n",
    "    \n",
    "    while it < max_iter:\n",
    "        it += 1\n",
    "        \n",
    "        # Get the current window\n",
    "        J_win = J_inter(win_x + d_tot[0], win_y + d_tot[1])\n",
    "\n",
    "        e = estimate_e(template, J_win, Ix, Iy)       \n",
    "        d = np.dot(Zinv, e)\n",
    "        \n",
    "        print(d_tot)\n",
    "        d_tot = d_tot + d\n",
    "        print(d_tot)\n",
    "        \n",
    "        if np.hypot(d[0], d[1]) <= min_disp:\n",
    "            # Check if converged\n",
    "            return d_tot\n",
    "        \n",
    "    return d_tot   "
   ]
  },
  {
   "cell_type": "code",
   "execution_count": 13,
   "metadata": {},
   "outputs": [],
   "source": [
    "def calc_klt(old_image, new_image, input_points, win_size=(21, 21), max_iter=30, min_disp=0.01):\n",
    "    \n",
    "    output_points = []\n",
    "    for (x, y) in input_points:\n",
    "        d = calc_d(old_image, new_image, x, y, win_size, max_iter, min_disp)\n",
    "        output_points.append((x + d[0], y + d[1]))\n",
    "    return output_points"
   ]
  },
  {
   "cell_type": "markdown",
   "metadata": {},
   "source": [
    "### 1.3.6 Test Implementation with OpenCV"
   ]
  },
  {
   "cell_type": "code",
   "execution_count": 14,
   "metadata": {},
   "outputs": [],
   "source": [
    "import cv2\n",
    "\n",
    "def opencv_klt(old_image, new_image, input_points, win_size=(21, 21)):\n",
    "    pts = np.array(input_points ,np.float32)\n",
    "    I2 = old_image.astype(np.uint8)\n",
    "    J2 = new_image.astype(np.uint8)\n",
    "    res = cv2.calcOpticalFlowPyrLK(I2, J2, pts, None, winSize=win_size, maxLevel=0) #prevPts[, nextPts[, status[, err[, winSize[, maxLevel[, criteria[, flags[, minEigThreshold]]]]]]]])\n",
    "    return res[0]"
   ]
  },
  {
   "cell_type": "markdown",
   "metadata": {},
   "source": [
    "### Experimentations"
   ]
  },
  {
   "cell_type": "code",
   "execution_count": 15,
   "metadata": {},
   "outputs": [
    {
     "data": {
      "text/plain": [
       "array([[315.70703, 348.31683]], dtype=float32)"
      ]
     },
     "execution_count": 15,
     "metadata": {},
     "output_type": "execute_result"
    }
   ],
   "source": [
    "def load_img_uint8(path='./view0.png', gray=True):\n",
    "    rgb = Image.open(path)\n",
    "    rgb = np.array(rgb, dtype=np.uint8)\n",
    "    if gray:\n",
    "        return np.dot(rgb[...,:3], [0.299, 0.587, 0.114])\n",
    "    else:\n",
    "        return rgb\n",
    "\n",
    "I_8 = load_img_uint8('./view0.png')\n",
    "J_8 = load_img_uint8('./view1.png')\n",
    "\n",
    "opencv_klt(I_8, J_8, [(320, 336)], (21, 21))"
   ]
  },
  {
   "cell_type": "code",
   "execution_count": null,
   "metadata": {},
   "outputs": [],
   "source": []
  },
  {
   "cell_type": "code",
   "execution_count": null,
   "metadata": {},
   "outputs": [],
   "source": []
  },
  {
   "cell_type": "code",
   "execution_count": 16,
   "metadata": {},
   "outputs": [
    {
     "name": "stdout",
     "output_type": "stream",
     "text": [
      "[[96879.65291774 96887.14446971]\n",
      " [96887.14446971 96949.96802883]]\n",
      "[0. 0.]\n",
      "[ 0.01526574 -0.009285  ]\n",
      "[ 0.01526574 -0.009285  ]\n",
      "[ 0.03055696 -0.01859332]\n",
      "[ 0.03055696 -0.01859332]\n",
      "[ 0.04587361 -0.0279249 ]\n",
      "[ 0.04587361 -0.0279249 ]\n",
      "[ 0.06121564 -0.03727966]\n",
      "[ 0.06121564 -0.03727966]\n",
      "[ 0.076583   -0.04665755]\n",
      "[ 0.076583   -0.04665755]\n",
      "[ 0.09197563 -0.05605851]\n",
      "[ 0.09197563 -0.05605851]\n",
      "[ 0.10739349 -0.06548247]\n",
      "[ 0.10739349 -0.06548247]\n",
      "[ 0.12283651 -0.07492936]\n",
      "[ 0.12283651 -0.07492936]\n",
      "[ 0.13830467 -0.08439912]\n",
      "[ 0.13830467 -0.08439912]\n",
      "[ 0.15379789 -0.09389168]\n",
      "[ 0.15379789 -0.09389168]\n",
      "[ 0.16931612 -0.10340699]\n",
      "[ 0.16931612 -0.10340699]\n",
      "[ 0.18485932 -0.11294497]\n",
      "[ 0.18485932 -0.11294497]\n",
      "[ 0.20042743 -0.12250556]\n",
      "[ 0.20042743 -0.12250556]\n",
      "[ 0.2160204  -0.13208869]\n",
      "[ 0.2160204  -0.13208869]\n",
      "[ 0.23163817 -0.14169429]\n",
      "[ 0.23163817 -0.14169429]\n",
      "[ 0.24728069 -0.15132231]\n",
      "[ 0.24728069 -0.15132231]\n",
      "[ 0.26294791 -0.16097266]\n",
      "[ 0.26294791 -0.16097266]\n",
      "[ 0.27863977 -0.17064529]\n",
      "[ 0.27863977 -0.17064529]\n",
      "[ 0.29435622 -0.18034012]\n",
      "[ 0.29435622 -0.18034012]\n",
      "[ 0.31009719 -0.19005709]\n",
      "[ 0.31009719 -0.19005709]\n",
      "[ 0.32586265 -0.19979613]\n",
      "[ 0.32586265 -0.19979613]\n",
      "[ 0.34165253 -0.20955717]\n",
      "[ 0.34165253 -0.20955717]\n",
      "[ 0.35746677 -0.21934013]\n",
      "[ 0.35746677 -0.21934013]\n",
      "[ 0.37330532 -0.22914496]\n",
      "[ 0.37330532 -0.22914496]\n",
      "[ 0.38916813 -0.23897158]\n",
      "[ 0.38916813 -0.23897158]\n",
      "[ 0.40505513 -0.24881992]\n",
      "[ 0.40505513 -0.24881992]\n",
      "[ 0.42096627 -0.25868992]\n",
      "[ 0.42096627 -0.25868992]\n",
      "[ 0.4369015  -0.26858149]\n",
      "[ 0.4369015  -0.26858149]\n",
      "[ 0.45286075 -0.27849457]\n",
      "[ 0.45286075 -0.27849457]\n",
      "[ 0.46884397 -0.28842909]\n"
     ]
    },
    {
     "data": {
      "text/plain": [
       "[(320.46884397351977, 335.7115709141856)]"
      ]
     },
     "execution_count": 16,
     "metadata": {},
     "output_type": "execute_result"
    }
   ],
   "source": [
    "calc_klt(I, J, [(320, 336)], (21, 21), max_iter=30)"
   ]
  },
  {
   "cell_type": "code",
   "execution_count": null,
   "metadata": {},
   "outputs": [],
   "source": []
  }
 ],
 "metadata": {
  "kernelspec": {
   "display_name": "Python 3",
   "language": "python",
   "name": "python3"
  },
  "language_info": {
   "codemirror_mode": {
    "name": "ipython",
    "version": 3
   },
   "file_extension": ".py",
   "mimetype": "text/x-python",
   "name": "python",
   "nbconvert_exporter": "python",
   "pygments_lexer": "ipython3",
   "version": "3.5.5"
  }
 },
 "nbformat": 4,
 "nbformat_minor": 2
}
