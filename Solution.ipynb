{
 "cells": [
  {
   "cell_type": "markdown",
   "metadata": {},
   "source": [
    "# The KLT Tracker\n",
    "*By Erik Gärtner*\n"
   ]
  },
  {
   "cell_type": "markdown",
   "metadata": {},
   "source": [
    "### 1.2.2 Inverse-additive scheme\n",
    "\n",
    "The inverse-additive shceme is the following:\n",
    "\\begin{align}\n",
    "E(u, v) = \\sum_{x,y} [J(x, y) - I(x - u, y -v)] ^2\n",
    "\\end{align}\n",
    "\n",
    "Which is derived into the form of $Zd = e$:\n",
    "\n",
    "\\begin{align}\n",
    "\\sum_{x,y} \n",
    "\\begin{bmatrix}\n",
    "I_x^2 & I_x I_y \\\\\n",
    "I_x I_y & I_y^2 \\\\\n",
    "\\end{bmatrix} \n",
    "\\begin{bmatrix}\n",
    "u \\\\\n",
    "v\n",
    "\\end{bmatrix} = - \\sum_{x,y}\n",
    "\\begin{bmatrix}\n",
    "I_x D \\\\\n",
    "I_y D\n",
    "\\end{bmatrix}\n",
    "\\end{align}\n",
    "\n",
    "where D is $D(x,y) = J(x,y) - I(x,y)$"
   ]
  },
  {
   "cell_type": "markdown",
   "metadata": {},
   "source": [
    "### Helper functions"
   ]
  },
  {
   "cell_type": "code",
   "execution_count": 1,
   "metadata": {},
   "outputs": [],
   "source": [
    "import numpy as np\n",
    "from  scipy import ndimage, interpolate\n",
    "\n",
    "from matplotlib.pyplot import imshow, imread\n",
    "import matplotlib.pyplot as plt\n",
    "from PIL import Image"
   ]
  },
  {
   "cell_type": "code",
   "execution_count": 2,
   "metadata": {},
   "outputs": [],
   "source": [
    "def load_img(path='./view0.png', gray=True):\n",
    "    rgb = Image.open(path)\n",
    "    rgb = np.array(rgb)\n",
    "    if gray:\n",
    "        return np.dot(rgb[...,:3], [0.299, 0.587, 0.114])\n",
    "    else:\n",
    "        return rgb\n",
    "    \n",
    "I = load_img()\n",
    "J = load_img('./view1.png')"
   ]
  },
  {
   "cell_type": "markdown",
   "metadata": {},
   "source": [
    "### 1.3.1 Gradient Function"
   ]
  },
  {
   "cell_type": "code",
   "execution_count": 3,
   "metadata": {},
   "outputs": [],
   "source": [
    "X_FILTER = np.array([[3.0, 0.0, -3.0], [10.0, 0.0, 10.0], [3.0, 0.0, -3.0]])\n",
    "Y_FILTER = X_FILTER.T\n",
    "\n",
    "def differentiate(img_arr):\n",
    "    x_diff = ndimage.convolve(img_arr, X_FILTER, mode='constant', cval=0.0)\n",
    "    y_diff = ndimage.convolve(img_arr, Y_FILTER, mode='constant', cval=0.0)\n",
    "    return (x_diff, y_diff)"
   ]
  },
  {
   "cell_type": "markdown",
   "metadata": {},
   "source": [
    "### 1.3.2 Estimating Z"
   ]
  },
  {
   "cell_type": "code",
   "execution_count": 4,
   "metadata": {},
   "outputs": [],
   "source": [
    "def estimate_Z(x_diff, y_diff):\n",
    "    Ix = x_diff\n",
    "    Iy = y_diff\n",
    "    \n",
    "    Ixx = np.multiply(Ix, Ix)\n",
    "    Ixy = np.multiply(Ix, Iy)\n",
    "    Iyy = np.multiply(Iy, Iy)\n",
    "    \n",
    "    Sxx = np.sum(Ixx)\n",
    "    Sxy = np.sum(Ixy)\n",
    "    Syy = np.sum(Iyy)\n",
    "        \n",
    "    Z = np.array([\n",
    "        [Sxx, Sxy],\n",
    "        [Sxy, Syy]\n",
    "    ])\n",
    "    return Z "
   ]
  },
  {
   "cell_type": "markdown",
   "metadata": {},
   "source": [
    "### 1.3.3 Difference Function"
   ]
  },
  {
   "cell_type": "code",
   "execution_count": 5,
   "metadata": {},
   "outputs": [],
   "source": [
    "def estimate_e(I, J, x_diff, y_diff):\n",
    "    Ix = x_diff\n",
    "    Iy = y_diff\n",
    "    \n",
    "    D = I - J\n",
    "    \n",
    "    Sx = -1 * np.sum(np.multiply(Ix, D))\n",
    "    Sy = -1 * np.sum(np.multiply(Iy, D))\n",
    "    \n",
    "    return np.array([Sx, Sy]).T"
   ]
  },
  {
   "cell_type": "markdown",
   "metadata": {},
   "source": [
    "### 1.3.4 Interpolation Function"
   ]
  },
  {
   "cell_type": "code",
   "execution_count": 6,
   "metadata": {},
   "outputs": [],
   "source": [
    "def interpolate_region(img_array):\n",
    "    \"\"\"\n",
    "    Creates an bilinear interpolation of the image area sent in.\n",
    "    Evaluate using spline(x, y)\n",
    "    \"\"\"\n",
    "    x_arr = np.arange(0, img_array.shape[0])\n",
    "    y_arr = np.arange(0, img_array.shape[1])\n",
    "    spline = interpolate.RectBivariateSpline(x_arr, y_arr, img_array, kx=1, ky=1)\n",
    "    return spline"
   ]
  },
  {
   "cell_type": "markdown",
   "metadata": {},
   "source": [
    "### 1.3.5 Finalizing the KLT Tracker\n",
    "\n",
    "Some notes, \n",
    "- I had to use the pseudo-inverse because I got a singular matrix Z.\n",
    "- Should I interpolate the images as I have done, that is first compute the gradients of the entire image, then create interpolation of the entire image and image gradients."
   ]
  },
  {
   "cell_type": "code",
   "execution_count": 12,
   "metadata": {},
   "outputs": [],
   "source": [
    "def calc_klt(old_image, new_image, input_points, win_size=(21, 21), max_iter=30, min_disp=0.01):\n",
    "    \n",
    "    output_points = []\n",
    "    for (x, y) in input_points:\n",
    "        d = calc_d(old_image, new_image, x, y, win_size, max_iter, min_disp)\n",
    "        output_points.append((x + d[0], y + d[1]))\n",
    "    return output_points\n",
    "\n",
    "\n",
    "def calc_d(I, J, x, y, win_size, max_iter, min_disp):\n",
    "    \n",
    "    it = 0\n",
    "    d_tot = 0\n",
    "    \n",
    "    # The window to evaluate\n",
    "    org_win_x = win_x = np.arange(x, x + win_size[0], dtype=float)\n",
    "    org_win_x = win_y = np.arange(y, y + win_size[1], dtype=float)\n",
    "    \n",
    "    # Find image gradient in I\n",
    "    Ix, Iy = differentiate(I)\n",
    "    \n",
    "    # Create interpolated versions of gradient and images\n",
    "    I_inter = interpolate_region(I)\n",
    "    J_inter = interpolate_region(J)\n",
    "    Ix_inter = interpolate_region(Ix)\n",
    "    Iy_inter = interpolate_region(Iy)    \n",
    "    \n",
    "    while it < max_iter:\n",
    "        \n",
    "        # Get the current window\n",
    "        Ix_win = Ix_inter(win_x, win_y)\n",
    "        Iy_win = Iy_inter(win_x, win_y)\n",
    "        I_win = I_inter(win_x, win_y)\n",
    "        J_win = J_inter(win_x, win_y)\n",
    "        \n",
    "        Z = estimate_Z(Ix_win, Ix_win)\n",
    "        e = estimate_e(I_win, J_win, Ix_win, Ix_win)\n",
    "        \n",
    "        Zinv = np.linalg.pinv(Z)\n",
    "        d = np.dot(Zinv, e)\n",
    "        \n",
    "        d_tot = d_tot + d\n",
    "        \n",
    "        if np.hypot(d[0], d[1]) <= min_disp:\n",
    "            # Check if converged\n",
    "            return d_tot\n",
    "        \n",
    "        # Shift I and J by d\n",
    "        win_x = win_x + d[0]\n",
    "        win_y = win_y + d[1]\n",
    "        \n",
    "        it += 1\n",
    "    \n",
    "    return d_tot   "
   ]
  },
  {
   "cell_type": "markdown",
   "metadata": {},
   "source": [
    "### 1.3.6 Test Implementation"
   ]
  },
  {
   "cell_type": "code",
   "execution_count": 13,
   "metadata": {},
   "outputs": [],
   "source": [
    "import cv2\n",
    "\n",
    "def opencv_klt(old_image, new_image, input_points, win_size=(21, 21)):\n",
    "    pts = np.array(input_points ,np.float32)\n",
    "    I2 = I.astype(np.uint8)\n",
    "    J2 = J.astype(np.uint8)\n",
    "    res = cv2.calcOpticalFlowPyrLK(I2, J2, pts, None, winSize=win_size, maxLevel=0) #prevPts[, nextPts[, status[, err[, winSize[, maxLevel[, criteria[, flags[, minEigThreshold]]]]]]]])\n",
    "    return res[0]"
   ]
  },
  {
   "cell_type": "code",
   "execution_count": 14,
   "metadata": {},
   "outputs": [],
   "source": [
    "#imshow(I, cmap = plt.get_cmap('gray'))"
   ]
  },
  {
   "cell_type": "code",
   "execution_count": 15,
   "metadata": {},
   "outputs": [
    {
     "data": {
      "text/plain": [
       "[(319.99407144902415, 335.99407144902415)]"
      ]
     },
     "execution_count": 15,
     "metadata": {},
     "output_type": "execute_result"
    }
   ],
   "source": [
    "calc_klt(I, J, [(320, 336)], (21, 21))"
   ]
  },
  {
   "cell_type": "code",
   "execution_count": 16,
   "metadata": {},
   "outputs": [
    {
     "data": {
      "text/plain": [
       "array([[315.70703, 348.31683]], dtype=float32)"
      ]
     },
     "execution_count": 16,
     "metadata": {},
     "output_type": "execute_result"
    }
   ],
   "source": [
    "opencv_klt(I, J, [(320, 336)], (21, 21))"
   ]
  },
  {
   "cell_type": "code",
   "execution_count": null,
   "metadata": {},
   "outputs": [],
   "source": []
  }
 ],
 "metadata": {
  "kernelspec": {
   "display_name": "Python 3",
   "language": "python",
   "name": "python3"
  },
  "language_info": {
   "codemirror_mode": {
    "name": "ipython",
    "version": 3
   },
   "file_extension": ".py",
   "mimetype": "text/x-python",
   "name": "python",
   "nbconvert_exporter": "python",
   "pygments_lexer": "ipython3",
   "version": "3.5.5"
  }
 },
 "nbformat": 4,
 "nbformat_minor": 2
}
