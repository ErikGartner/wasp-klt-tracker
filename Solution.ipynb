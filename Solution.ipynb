{
 "cells": [
  {
   "cell_type": "markdown",
   "metadata": {},
   "source": [
    "# The KLT Tracker\n",
    "*By Erik Gärtner*\n"
   ]
  },
  {
   "cell_type": "markdown",
   "metadata": {},
   "source": [
    "### 1.2.2 Inverse-additive scheme\n",
    "\n",
    "The inverse-additive shceme is the following:\n",
    "\\begin{align}\n",
    "E(u, v) = \\sum_{x,y} [J(x, y) - I(x - u, y -v)] ^2\n",
    "\\end{align}\n",
    "\n",
    "Which is derived into the form of $Zd = e$:\n",
    "\n",
    "\\begin{align}\n",
    "\\sum_{x,y} \n",
    "\\begin{bmatrix}\n",
    "I_x^2 & I_x I_y \\\\\n",
    "I_x I_y & I_y^2 \\\\\n",
    "\\end{bmatrix} \n",
    "\\begin{bmatrix}\n",
    "u \\\\\n",
    "v\n",
    "\\end{bmatrix} = - \\sum_{x,y}\n",
    "\\begin{bmatrix}\n",
    "I_x D \\\\\n",
    "I_y D\n",
    "\\end{bmatrix}\n",
    "\\end{align}\n",
    "\n",
    "where D is $D(x,y) = J(x,y) - I(x - u,y -v)$"
   ]
  },
  {
   "cell_type": "markdown",
   "metadata": {},
   "source": [
    "### Helper functions"
   ]
  },
  {
   "cell_type": "code",
   "execution_count": 275,
   "metadata": {},
   "outputs": [],
   "source": [
    "import numpy as np\n",
    "from  scipy import ndimage, interpolate\n",
    "\n",
    "from matplotlib.pyplot import imshow, imread\n",
    "import matplotlib.pyplot as plt\n",
    "from PIL import Image"
   ]
  },
  {
   "cell_type": "code",
   "execution_count": 276,
   "metadata": {},
   "outputs": [],
   "source": [
    "def load_img(path='./view0.png', gray=True):\n",
    "    rgb = imread(path)\n",
    "    rgb = np.array(rgb, dtype=np.float32)\n",
    "    if gray:\n",
    "        return np.dot(rgb[...,:3], [0.299, 0.587, 0.114])\n",
    "    else:\n",
    "        return rgb\n",
    "\n",
    "I = load_img('./view0.png')\n",
    "J = load_img('./view1.png')"
   ]
  },
  {
   "cell_type": "markdown",
   "metadata": {},
   "source": [
    "\n",
    "### 1.3.1 Gradient Function"
   ]
  },
  {
   "cell_type": "code",
   "execution_count": 277,
   "metadata": {},
   "outputs": [],
   "source": [
    "# Sharr filter\n",
    "#X_FILTER = np.array([[3.0, 0.0, -3.0], [10.0, 0.0, 10.0], [3.0, 0.0, -3.0]])\n",
    "# Sobel filter\n",
    "X_FILTER = np.array([[1.0, 0.0, -1.0], [2., 0., -2.], [1.0, 0.0, -1.0]])\n",
    "Y_FILTER = X_FILTER.T\n",
    "\n",
    "def differentiate(img_arr):\n",
    "    x_diff = ndimage.convolve(img_arr, X_FILTER)#, mode='constant', cval=0.0)\n",
    "    y_diff = ndimage.convolve(img_arr, Y_FILTER)#, mode='constant', cval=0.0)\n",
    "    return (x_diff, y_diff)"
   ]
  },
  {
   "cell_type": "markdown",
   "metadata": {},
   "source": [
    "### 1.3.2 Estimating Z\n",
    "Z is the Hessian matrix."
   ]
  },
  {
   "cell_type": "code",
   "execution_count": 278,
   "metadata": {},
   "outputs": [],
   "source": [
    "def estimate_Z(x_diff, y_diff):\n",
    "    x_diff = x_diff.flatten()\n",
    "    y_diff = y_diff.flatten()\n",
    "    \n",
    "    grads_T = np.array([x_diff, y_diff])\n",
    "    Z = np.dot(grads_T, grads_T.T)\n",
    "    return Z"
   ]
  },
  {
   "cell_type": "markdown",
   "metadata": {},
   "source": [
    "### 1.3.3 Difference Function"
   ]
  },
  {
   "cell_type": "code",
   "execution_count": 279,
   "metadata": {},
   "outputs": [],
   "source": [
    "def estimate_e(I, J, Ix, Iy):   \n",
    "    D = (I - J).flatten()\n",
    "    Ix = Ix.flatten()\n",
    "    Iy = Iy.flatten()\n",
    "    \n",
    "    grads_T = np.array([Ix, Iy])\n",
    "    \n",
    "    return -1 *np.dot(grads_T, D)"
   ]
  },
  {
   "cell_type": "markdown",
   "metadata": {},
   "source": [
    "### 1.3.4 Interpolation Function"
   ]
  },
  {
   "cell_type": "code",
   "execution_count": 300,
   "metadata": {},
   "outputs": [],
   "source": [
    "def interpolate_region(img_array):\n",
    "    \"\"\"\n",
    "    Creates an bilinear interpolation of the image area sent in.\n",
    "    Evaluate using spline(x, y)\n",
    "    \"\"\"\n",
    "    x_arr = np.arange(0, img_array.shape[0])\n",
    "    y_arr = np.arange(0, img_array.shape[1])\n",
    "    spline = interpolate.RectBivariateSpline(x_arr, y_arr, img_array, kx=1, ky=1)\n",
    "    return spline"
   ]
  },
  {
   "cell_type": "markdown",
   "metadata": {},
   "source": [
    "### 1.3.5 Finalizing the KLT Tracker\n",
    "\n",
    "Some notes, \n",
    "- I had to use the pseudo-inverse because I got a singular matrix Z.\n",
    "- Should I interpolate the images as I have done, that is first compute the gradients of the entire image, then create interpolation of the entire image and image gradients."
   ]
  },
  {
   "cell_type": "code",
   "execution_count": 301,
   "metadata": {},
   "outputs": [],
   "source": [
    "def calc_d(I, J, x, y, win_size, max_iter, min_disp):\n",
    "    \n",
    "    it = 0\n",
    "    d_tot = np.array([0., 0.]).T;\n",
    "    \n",
    "    # The window to evaluate\n",
    "    win_x = np.arange(x, x + win_size[0], dtype=float)\n",
    "    win_y = np.arange(y, y + win_size[1], dtype=float)\n",
    "    \n",
    "    template = I[x:x + win_size[0], y: y + win_size[1]]\n",
    "    \n",
    "    # Find image gradient in I\n",
    "    Ix, Iy = differentiate(template)\n",
    "    print(Ix)\n",
    "    \n",
    "    Z = estimate_Z(Ix, Iy)\n",
    "    Zinv = np.linalg.inv(Z)\n",
    "    print(Zinv)\n",
    "    \n",
    "    # Create interpolated versions of gradient and images\n",
    "    I_inter = interpolate_region(I)\n",
    "    J_inter = interpolate_region(J)  \n",
    "    \n",
    "    while it < max_iter:\n",
    "        it += 1\n",
    "        \n",
    "        # Get the current window\n",
    "        J_win = J_inter(win_x, win_y)\n",
    "\n",
    "        e = estimate_e(template, J_win, Ix, Iy)       \n",
    "        d = np.dot(Zinv, e)\n",
    "        \n",
    "        print(d_tot, d)\n",
    "        d_tot = d_tot + d\n",
    "        \n",
    "        if np.hypot(d[0], d[1]) <= min_disp:\n",
    "            # Check if converged\n",
    "            return d_tot\n",
    "        \n",
    "        # Shift I and J by d\n",
    "        win_x = win_x + d[0]\n",
    "        win_y = win_y + d[1]\n",
    "        \n",
    "    return d_tot   "
   ]
  },
  {
   "cell_type": "code",
   "execution_count": 302,
   "metadata": {},
   "outputs": [],
   "source": [
    "def calc_klt(old_image, new_image, input_points, win_size=(21, 21), max_iter=30, min_disp=0.01):\n",
    "    \n",
    "    output_points = []\n",
    "    for (x, y) in input_points:\n",
    "        d = calc_d(old_image, new_image, x, y, win_size, max_iter, min_disp)\n",
    "        output_points.append((x + d[0], y + d[1]))\n",
    "    return output_points"
   ]
  },
  {
   "cell_type": "markdown",
   "metadata": {},
   "source": [
    "### 1.3.6 Test Implementation"
   ]
  },
  {
   "cell_type": "code",
   "execution_count": 264,
   "metadata": {},
   "outputs": [],
   "source": [
    "import cv2\n",
    "\n",
    "def opencv_klt(old_image, new_image, input_points, win_size=(21, 21)):\n",
    "    pts = np.array(input_points ,np.float32)\n",
    "    I2 = I.astype(np.uint8)\n",
    "    J2 = J.astype(np.uint8)\n",
    "    res = cv2.calcOpticalFlowPyrLK(I2, J2, pts, None, winSize=win_size, maxLevel=0) #prevPts[, nextPts[, status[, err[, winSize[, maxLevel[, criteria[, flags[, minEigThreshold]]]]]]]])\n",
    "    return res[0]"
   ]
  },
  {
   "cell_type": "code",
   "execution_count": null,
   "metadata": {},
   "outputs": [],
   "source": []
  },
  {
   "cell_type": "code",
   "execution_count": 265,
   "metadata": {},
   "outputs": [],
   "source": [
    "#imshow(I, cmap = plt.get_cmap('gray'))"
   ]
  },
  {
   "cell_type": "code",
   "execution_count": 303,
   "metadata": {},
   "outputs": [
    {
     "name": "stdout",
     "output_type": "stream",
     "text": [
      "[[ 6.66666627e-05  1.40784305e-03  0.00000000e+00 ... -8.18823481e-03\n",
      "  -1.30039208e-02 -3.92156839e-03]\n",
      " [ 3.77647036e-03  4.22352916e-03  0.00000000e+00 ... -1.23921561e-03\n",
      "  -1.08705876e-02 -7.84313679e-03]\n",
      " [ 4.22352916e-03  4.22352916e-03  0.00000000e+00 ... -5.13725460e-04\n",
      "   1.11022302e-16  1.11022302e-16]\n",
      " ...\n",
      " [-3.47450960e-03 -3.98823506e-03 -3.92156839e-03 ... -6.35529442e-02\n",
      "  -9.49254845e-02 -5.49019575e-02]\n",
      " [ 0.00000000e+00 -2.36862731e-03  0.00000000e+00 ... -2.77019625e-02\n",
      "  -3.04941158e-02 -1.45568619e-02]\n",
      " [ 0.00000000e+00 -1.40784305e-03  0.00000000e+00 ...  1.10666660e-02\n",
      "   3.79843115e-02  3.47607822e-02]]\n",
      "[[0.09624907 0.01526949]\n",
      " [0.01526949 0.02270437]]\n",
      "[0. 0.] [ 0.10838337 -0.05417738]\n",
      "[ 0.10838337 -0.05417738] [ 0.11128783 -0.05048359]\n",
      "[ 0.2196712  -0.10466097] [ 0.11412251 -0.04668439]\n",
      "[ 0.33379371 -0.15134536] [ 0.11688525 -0.04278519]\n",
      "[ 0.45067896 -0.19413055] [ 0.11957425 -0.03879181]\n",
      "[ 0.57025321 -0.23292236] [ 0.12218802 -0.03471051]\n",
      "[ 0.69244123 -0.26763287] [ 0.1247254 -0.0305479]\n",
      "[ 0.81716663 -0.29818077] [ 0.12718562 -0.02631095]\n",
      "[ 0.94435225 -0.32449172] [ 0.12956822 -0.02200697]\n",
      "[ 1.07392047 -0.34649869] [ 0.13084182 -0.01758202]\n",
      "[ 1.20476229 -0.36408071] [ 0.13120322 -0.01309883]\n",
      "[ 1.33596551 -0.37717955] [ 0.13143401 -0.00863887]\n",
      "[ 1.46739952 -0.38581842] [ 0.13154994 -0.00420842]\n",
      "[ 1.59894946 -0.39002684] [0.13156684 0.00018679]\n",
      "[ 1.73051631 -0.38984005] [0.13150058 0.00454165]\n",
      "[ 1.86201689 -0.3852984 ] [0.13136693 0.00885163]\n",
      "[ 1.99338383 -0.37644677] [0.13118152 0.0131128 ]\n",
      "[ 2.12456535 -0.36333397] [0.1290531  0.01713551]\n",
      "[ 2.25361845 -0.34619847] [0.1268509  0.02103942]\n",
      "[ 2.38046935 -0.32515905] [0.12469593 0.02483288]\n",
      "[ 2.50516528 -0.30032617] [0.12260435 0.02851803]\n",
      "[ 2.62776962 -0.27180814] [0.12059091 0.03209753]\n",
      "[ 2.74836053 -0.23971061] [0.11866903 0.03557454]\n",
      "[ 2.86702956 -0.20413607] [0.11685092 0.0389526 ]\n",
      "[ 2.98388048 -0.16518347] [0.11514772 0.04223564]\n",
      "[ 3.09902821 -0.12294783] [0.11183354 0.04490461]\n",
      "[ 3.21086174 -0.07804323] [0.10843654 0.04737578]\n",
      "[ 3.31929828 -0.03066745] [0.10524527 0.04973468]\n",
      "[3.42454355 0.01906723] [0.1021815  0.05201247]\n",
      "[3.52672505 0.0710797 ] [0.09918509 0.05422708]\n"
     ]
    },
    {
     "data": {
      "text/plain": [
       "[(323.6259101365383, 336.1253067784293)]"
      ]
     },
     "execution_count": 303,
     "metadata": {},
     "output_type": "execute_result"
    }
   ],
   "source": [
    "calc_klt(I, J, [(320, 336)], (100, 100))"
   ]
  },
  {
   "cell_type": "code",
   "execution_count": 304,
   "metadata": {},
   "outputs": [
    {
     "data": {
      "text/plain": [
       "array([[320., 336.]], dtype=float32)"
      ]
     },
     "execution_count": 304,
     "metadata": {},
     "output_type": "execute_result"
    }
   ],
   "source": [
    "opencv_klt(I, J, [(320, 336)], (21, 21))"
   ]
  },
  {
   "cell_type": "markdown",
   "metadata": {},
   "source": [
    "##### Compare Gradients"
   ]
  },
  {
   "cell_type": "code",
   "execution_count": 299,
   "metadata": {},
   "outputs": [
    {
     "data": {
      "text/plain": [
       "(52, 91)"
      ]
     },
     "execution_count": 299,
     "metadata": {},
     "output_type": "execute_result"
    }
   ],
   "source": [
    "I = load_img('./alt/view0.png')\n",
    "J = load_img('./alt/view1.png')\n",
    "I[213:265,328:419].shape"
   ]
  },
  {
   "cell_type": "code",
   "execution_count": null,
   "metadata": {},
   "outputs": [],
   "source": []
  }
 ],
 "metadata": {
  "kernelspec": {
   "display_name": "Python 3",
   "language": "python",
   "name": "python3"
  },
  "language_info": {
   "codemirror_mode": {
    "name": "ipython",
    "version": 3
   },
   "file_extension": ".py",
   "mimetype": "text/x-python",
   "name": "python",
   "nbconvert_exporter": "python",
   "pygments_lexer": "ipython3",
   "version": "3.5.5"
  }
 },
 "nbformat": 4,
 "nbformat_minor": 2
}
